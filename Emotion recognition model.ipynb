{
 "cells": [
  {
   "cell_type": "code",
   "execution_count": 32,
   "id": "ee7b258e-aef4-47a1-a271-5152b90a5df7",
   "metadata": {},
   "outputs": [],
   "source": [
    "# import the libraries\n",
    "import tensorflow as tf \n",
    "import numpy as np \n",
    "import pandas as pd \n",
    "import cv2 \n",
    "from sklearn.model_selection import train_test_split"
   ]
  },
  {
   "cell_type": "code",
   "execution_count": 33,
   "id": "6ee0d763-4bb3-4638-bcb3-9c18d1d207ce",
   "metadata": {},
   "outputs": [
    {
     "data": {
      "text/html": [
       "<div>\n",
       "<style scoped>\n",
       "    .dataframe tbody tr th:only-of-type {\n",
       "        vertical-align: middle;\n",
       "    }\n",
       "\n",
       "    .dataframe tbody tr th {\n",
       "        vertical-align: top;\n",
       "    }\n",
       "\n",
       "    .dataframe thead th {\n",
       "        text-align: right;\n",
       "    }\n",
       "</style>\n",
       "<table border=\"1\" class=\"dataframe\">\n",
       "  <thead>\n",
       "    <tr style=\"text-align: right;\">\n",
       "      <th></th>\n",
       "      <th>emotion</th>\n",
       "      <th>pixels</th>\n",
       "      <th>Usage</th>\n",
       "    </tr>\n",
       "  </thead>\n",
       "  <tbody>\n",
       "    <tr>\n",
       "      <th>0</th>\n",
       "      <td>0</td>\n",
       "      <td>70 80 82 72 58 58 60 63 54 58 60 48 89 115 121...</td>\n",
       "      <td>Training</td>\n",
       "    </tr>\n",
       "    <tr>\n",
       "      <th>1</th>\n",
       "      <td>0</td>\n",
       "      <td>151 150 147 155 148 133 111 140 170 174 182 15...</td>\n",
       "      <td>Training</td>\n",
       "    </tr>\n",
       "    <tr>\n",
       "      <th>2</th>\n",
       "      <td>2</td>\n",
       "      <td>231 212 156 164 174 138 161 173 182 200 106 38...</td>\n",
       "      <td>Training</td>\n",
       "    </tr>\n",
       "    <tr>\n",
       "      <th>3</th>\n",
       "      <td>4</td>\n",
       "      <td>24 32 36 30 32 23 19 20 30 41 21 22 32 34 21 1...</td>\n",
       "      <td>Training</td>\n",
       "    </tr>\n",
       "    <tr>\n",
       "      <th>4</th>\n",
       "      <td>6</td>\n",
       "      <td>4 0 0 0 0 0 0 0 0 0 0 0 3 15 23 28 48 50 58 84...</td>\n",
       "      <td>Training</td>\n",
       "    </tr>\n",
       "  </tbody>\n",
       "</table>\n",
       "</div>"
      ],
      "text/plain": [
       "   emotion                                             pixels     Usage\n",
       "0        0  70 80 82 72 58 58 60 63 54 58 60 48 89 115 121...  Training\n",
       "1        0  151 150 147 155 148 133 111 140 170 174 182 15...  Training\n",
       "2        2  231 212 156 164 174 138 161 173 182 200 106 38...  Training\n",
       "3        4  24 32 36 30 32 23 19 20 30 41 21 22 32 34 21 1...  Training\n",
       "4        6  4 0 0 0 0 0 0 0 0 0 0 0 3 15 23 28 48 50 58 84...  Training"
      ]
     },
     "execution_count": 33,
     "metadata": {},
     "output_type": "execute_result"
    }
   ],
   "source": [
    "# Load the dataset\n",
    "data = pd.read_csv('fer2013.csv')\n",
    "data.head(5)"
   ]
  },
  {
   "cell_type": "code",
   "execution_count": 8,
   "id": "3f21550f-193c-4e84-b6f2-3bd8141594b9",
   "metadata": {},
   "outputs": [],
   "source": [
    "# Preprocess the image \n",
    "def preprocess_image(image):\n",
    "    image = np.array(image.split(), dtype='float32')\n",
    "    image = image.reshape(48,48,1) # Reshape to 48x48 and add channel dimension\n",
    "    image = image / 255.0 # Normalize to [0,1]\n",
    "    return image"
   ]
  },
  {
   "cell_type": "code",
   "execution_count": 11,
   "id": "de533e63-31a0-4aef-81b3-599dca0f43c2",
   "metadata": {},
   "outputs": [],
   "source": [
    "x = np.array([preprocess_image(img) for img in data['pixels']])\n",
    "y = tf.keras.utils.to_categorical(data['emotion'], num_classes=7) # converts integer labels into one-hot encoded format."
   ]
  },
  {
   "cell_type": "code",
   "execution_count": 10,
   "id": "1940225c-1edb-4737-b3af-30844854a507",
   "metadata": {},
   "outputs": [],
   "source": [
    "# split the dataset into training and testing sets \n",
    "x_train,x_test,y_train,y_test = train_test_split(x,y,test_size=0.2,random_state=42)"
   ]
  },
  {
   "cell_type": "markdown",
   "id": "d3a35dae-3286-4796-a2d4-cfaac324f5ac",
   "metadata": {},
   "source": [
    "# Model Building"
   ]
  },
  {
   "cell_type": "code",
   "execution_count": 12,
   "id": "0c5126fd-e249-4bf7-a4ed-115eba104ce6",
   "metadata": {},
   "outputs": [],
   "source": [
    "from tensorflow.keras.models import Sequential\n",
    "from tensorflow.keras.layers import Conv2D, MaxPooling2D, Flatten, Dense, Dropout, BatchNormalization"
   ]
  },
  {
   "cell_type": "code",
   "execution_count": 13,
   "id": "6eb55652-968a-43be-8252-4a2b507c8e52",
   "metadata": {},
   "outputs": [
    {
     "name": "stderr",
     "output_type": "stream",
     "text": [
      "C:\\Users\\ishit\\AppData\\Local\\Programs\\Python\\Python312\\Lib\\site-packages\\keras\\src\\layers\\convolutional\\base_conv.py:107: UserWarning: Do not pass an `input_shape`/`input_dim` argument to a layer. When using Sequential models, prefer using an `Input(shape)` object as the first layer in the model instead.\n",
      "  super().__init__(activity_regularizer=activity_regularizer, **kwargs)\n"
     ]
    }
   ],
   "source": [
    "model = Sequential([\n",
    "    Conv2D(32, (3,3), activation='relu', input_shape=(48, 48, 1)),\n",
    "    BatchNormalization(),\n",
    "    MaxPooling2D(pool_size=(2,2)), \n",
    "    Dropout(0.25),\n",
    "\n",
    "    Conv2D(64, (3,3), activation='relu'),\n",
    "    BatchNormalization(),\n",
    "    MaxPooling2D(pool_size=(2,2)), \n",
    "    Dropout(0.25),\n",
    "\n",
    "    Conv2D(128, (3,3), activation='relu'),\n",
    "    BatchNormalization(),\n",
    "    MaxPooling2D(pool_size=(2,2)), \n",
    "    Dropout(0.25),\n",
    "\n",
    "    Flatten(),\n",
    "    Dense(256,  activation='relu'),\n",
    "    BatchNormalization(), \n",
    "    Dropout(0.25),\n",
    "    Dense(7, activation='softmax')\n",
    "])"
   ]
  },
  {
   "cell_type": "code",
   "execution_count": 14,
   "id": "ca403128-f4a3-45d2-9d97-3858d78b5665",
   "metadata": {},
   "outputs": [],
   "source": [
    "model.compile(optimizer='adam', loss='categorical_crossentropy',metrics=['accuracy'])"
   ]
  },
  {
   "cell_type": "markdown",
   "id": "ea2194e6-6bea-49a2-a3d8-27cfe4be5a12",
   "metadata": {},
   "source": [
    "# Model training "
   ]
  },
  {
   "cell_type": "code",
   "execution_count": 15,
   "id": "38c97b47-4836-42a6-a30f-a5957d9ee55f",
   "metadata": {},
   "outputs": [
    {
     "name": "stdout",
     "output_type": "stream",
     "text": [
      "Epoch 1/50\n",
      "\u001b[1m449/449\u001b[0m \u001b[32m━━━━━━━━━━━━━━━━━━━━\u001b[0m\u001b[37m\u001b[0m \u001b[1m88s\u001b[0m 180ms/step - accuracy: 0.2916 - loss: 2.0751 - val_accuracy: 0.3167 - val_loss: 1.7243\n",
      "Epoch 2/50\n",
      "\u001b[1m449/449\u001b[0m \u001b[32m━━━━━━━━━━━━━━━━━━━━\u001b[0m\u001b[37m\u001b[0m \u001b[1m82s\u001b[0m 182ms/step - accuracy: 0.4370 - loss: 1.4871 - val_accuracy: 0.3803 - val_loss: 1.5668\n",
      "Epoch 3/50\n",
      "\u001b[1m449/449\u001b[0m \u001b[32m━━━━━━━━━━━━━━━━━━━━\u001b[0m\u001b[37m\u001b[0m \u001b[1m81s\u001b[0m 180ms/step - accuracy: 0.4866 - loss: 1.3510 - val_accuracy: 0.4819 - val_loss: 1.3562\n",
      "Epoch 4/50\n",
      "\u001b[1m449/449\u001b[0m \u001b[32m━━━━━━━━━━━━━━━━━━━━\u001b[0m\u001b[37m\u001b[0m \u001b[1m415s\u001b[0m 926ms/step - accuracy: 0.5120 - loss: 1.2732 - val_accuracy: 0.4968 - val_loss: 1.3631\n",
      "Epoch 5/50\n",
      "\u001b[1m449/449\u001b[0m \u001b[32m━━━━━━━━━━━━━━━━━━━━\u001b[0m\u001b[37m\u001b[0m \u001b[1m81s\u001b[0m 180ms/step - accuracy: 0.5414 - loss: 1.2160 - val_accuracy: 0.5169 - val_loss: 1.3058\n",
      "Epoch 6/50\n",
      "\u001b[1m449/449\u001b[0m \u001b[32m━━━━━━━━━━━━━━━━━━━━\u001b[0m\u001b[37m\u001b[0m \u001b[1m81s\u001b[0m 179ms/step - accuracy: 0.5598 - loss: 1.1614 - val_accuracy: 0.5188 - val_loss: 1.2803\n",
      "Epoch 7/50\n",
      "\u001b[1m449/449\u001b[0m \u001b[32m━━━━━━━━━━━━━━━━━━━━\u001b[0m\u001b[37m\u001b[0m \u001b[1m83s\u001b[0m 181ms/step - accuracy: 0.5765 - loss: 1.1208 - val_accuracy: 0.5539 - val_loss: 1.1880\n",
      "Epoch 8/50\n",
      "\u001b[1m449/449\u001b[0m \u001b[32m━━━━━━━━━━━━━━━━━━━━\u001b[0m\u001b[37m\u001b[0m \u001b[1m82s\u001b[0m 181ms/step - accuracy: 0.5948 - loss: 1.0736 - val_accuracy: 0.5573 - val_loss: 1.1919\n",
      "Epoch 9/50\n",
      "\u001b[1m449/449\u001b[0m \u001b[32m━━━━━━━━━━━━━━━━━━━━\u001b[0m\u001b[37m\u001b[0m \u001b[1m81s\u001b[0m 180ms/step - accuracy: 0.6018 - loss: 1.0530 - val_accuracy: 0.5651 - val_loss: 1.1585\n",
      "Epoch 10/50\n",
      "\u001b[1m449/449\u001b[0m \u001b[32m━━━━━━━━━━━━━━━━━━━━\u001b[0m\u001b[37m\u001b[0m \u001b[1m82s\u001b[0m 180ms/step - accuracy: 0.6161 - loss: 1.0051 - val_accuracy: 0.5762 - val_loss: 1.1344\n",
      "Epoch 11/50\n",
      "\u001b[1m449/449\u001b[0m \u001b[32m━━━━━━━━━━━━━━━━━━━━\u001b[0m\u001b[37m\u001b[0m \u001b[1m82s\u001b[0m 180ms/step - accuracy: 0.6292 - loss: 0.9844 - val_accuracy: 0.5939 - val_loss: 1.1064\n",
      "Epoch 12/50\n",
      "\u001b[1m449/449\u001b[0m \u001b[32m━━━━━━━━━━━━━━━━━━━━\u001b[0m\u001b[37m\u001b[0m \u001b[1m81s\u001b[0m 181ms/step - accuracy: 0.6505 - loss: 0.9327 - val_accuracy: 0.5874 - val_loss: 1.1242\n",
      "Epoch 13/50\n",
      "\u001b[1m449/449\u001b[0m \u001b[32m━━━━━━━━━━━━━━━━━━━━\u001b[0m\u001b[37m\u001b[0m \u001b[1m82s\u001b[0m 179ms/step - accuracy: 0.6653 - loss: 0.9111 - val_accuracy: 0.5609 - val_loss: 1.1790\n",
      "Epoch 14/50\n",
      "\u001b[1m449/449\u001b[0m \u001b[32m━━━━━━━━━━━━━━━━━━━━\u001b[0m\u001b[37m\u001b[0m \u001b[1m85s\u001b[0m 186ms/step - accuracy: 0.6743 - loss: 0.8767 - val_accuracy: 0.5731 - val_loss: 1.1839\n",
      "Epoch 15/50\n",
      "\u001b[1m449/449\u001b[0m \u001b[32m━━━━━━━━━━━━━━━━━━━━\u001b[0m\u001b[37m\u001b[0m \u001b[1m141s\u001b[0m 183ms/step - accuracy: 0.6784 - loss: 0.8639 - val_accuracy: 0.6073 - val_loss: 1.1059\n",
      "Epoch 16/50\n",
      "\u001b[1m449/449\u001b[0m \u001b[32m━━━━━━━━━━━━━━━━━━━━\u001b[0m\u001b[37m\u001b[0m \u001b[1m81s\u001b[0m 181ms/step - accuracy: 0.7004 - loss: 0.8104 - val_accuracy: 0.6076 - val_loss: 1.1205\n",
      "Epoch 17/50\n",
      "\u001b[1m449/449\u001b[0m \u001b[32m━━━━━━━━━━━━━━━━━━━━\u001b[0m\u001b[37m\u001b[0m \u001b[1m126s\u001b[0m 278ms/step - accuracy: 0.7018 - loss: 0.7895 - val_accuracy: 0.6067 - val_loss: 1.1053\n",
      "Epoch 18/50\n",
      "\u001b[1m449/449\u001b[0m \u001b[32m━━━━━━━━━━━━━━━━━━━━\u001b[0m\u001b[37m\u001b[0m \u001b[1m81s\u001b[0m 181ms/step - accuracy: 0.7156 - loss: 0.7653 - val_accuracy: 0.5850 - val_loss: 1.1652\n",
      "Epoch 19/50\n",
      "\u001b[1m449/449\u001b[0m \u001b[32m━━━━━━━━━━━━━━━━━━━━\u001b[0m\u001b[37m\u001b[0m \u001b[1m82s\u001b[0m 180ms/step - accuracy: 0.7286 - loss: 0.7412 - val_accuracy: 0.5953 - val_loss: 1.1432\n",
      "Epoch 20/50\n",
      "\u001b[1m449/449\u001b[0m \u001b[32m━━━━━━━━━━━━━━━━━━━━\u001b[0m\u001b[37m\u001b[0m \u001b[1m82s\u001b[0m 181ms/step - accuracy: 0.7317 - loss: 0.7217 - val_accuracy: 0.5947 - val_loss: 1.1529\n",
      "Epoch 21/50\n",
      "\u001b[1m449/449\u001b[0m \u001b[32m━━━━━━━━━━━━━━━━━━━━\u001b[0m\u001b[37m\u001b[0m \u001b[1m82s\u001b[0m 180ms/step - accuracy: 0.7365 - loss: 0.7237 - val_accuracy: 0.5982 - val_loss: 1.1963\n",
      "Epoch 22/50\n",
      "\u001b[1m449/449\u001b[0m \u001b[32m━━━━━━━━━━━━━━━━━━━━\u001b[0m\u001b[37m\u001b[0m \u001b[1m133s\u001b[0m 296ms/step - accuracy: 0.7450 - loss: 0.6839 - val_accuracy: 0.5892 - val_loss: 1.2236\n",
      "Epoch 23/50\n",
      "\u001b[1m449/449\u001b[0m \u001b[32m━━━━━━━━━━━━━━━━━━━━\u001b[0m\u001b[37m\u001b[0m \u001b[1m81s\u001b[0m 181ms/step - accuracy: 0.7539 - loss: 0.6670 - val_accuracy: 0.6021 - val_loss: 1.1511\n",
      "Epoch 24/50\n",
      "\u001b[1m449/449\u001b[0m \u001b[32m━━━━━━━━━━━━━━━━━━━━\u001b[0m\u001b[37m\u001b[0m \u001b[1m182s\u001b[0m 404ms/step - accuracy: 0.7531 - loss: 0.6694 - val_accuracy: 0.5892 - val_loss: 1.1926\n",
      "Epoch 25/50\n",
      "\u001b[1m449/449\u001b[0m \u001b[32m━━━━━━━━━━━━━━━━━━━━\u001b[0m\u001b[37m\u001b[0m \u001b[1m83s\u001b[0m 183ms/step - accuracy: 0.7644 - loss: 0.6429 - val_accuracy: 0.6087 - val_loss: 1.1629\n",
      "Epoch 26/50\n",
      "\u001b[1m449/449\u001b[0m \u001b[32m━━━━━━━━━━━━━━━━━━━━\u001b[0m\u001b[37m\u001b[0m \u001b[1m147s\u001b[0m 193ms/step - accuracy: 0.7614 - loss: 0.6288 - val_accuracy: 0.5836 - val_loss: 1.2163\n",
      "Epoch 27/50\n",
      "\u001b[1m449/449\u001b[0m \u001b[32m━━━━━━━━━━━━━━━━━━━━\u001b[0m\u001b[37m\u001b[0m \u001b[1m81s\u001b[0m 181ms/step - accuracy: 0.7710 - loss: 0.6217 - val_accuracy: 0.5828 - val_loss: 1.2296\n",
      "Epoch 28/50\n",
      "\u001b[1m449/449\u001b[0m \u001b[32m━━━━━━━━━━━━━━━━━━━━\u001b[0m\u001b[37m\u001b[0m \u001b[1m82s\u001b[0m 183ms/step - accuracy: 0.7772 - loss: 0.6001 - val_accuracy: 0.5989 - val_loss: 1.2362\n",
      "Epoch 29/50\n",
      "\u001b[1m449/449\u001b[0m \u001b[32m━━━━━━━━━━━━━━━━━━━━\u001b[0m\u001b[37m\u001b[0m \u001b[1m83s\u001b[0m 184ms/step - accuracy: 0.7800 - loss: 0.5958 - val_accuracy: 0.5823 - val_loss: 1.2950\n",
      "Epoch 30/50\n",
      "\u001b[1m449/449\u001b[0m \u001b[32m━━━━━━━━━━━━━━━━━━━━\u001b[0m\u001b[37m\u001b[0m \u001b[1m137s\u001b[0m 172ms/step - accuracy: 0.7840 - loss: 0.5823 - val_accuracy: 0.5933 - val_loss: 1.2420\n",
      "Epoch 31/50\n",
      "\u001b[1m449/449\u001b[0m \u001b[32m━━━━━━━━━━━━━━━━━━━━\u001b[0m\u001b[37m\u001b[0m \u001b[1m67s\u001b[0m 140ms/step - accuracy: 0.7929 - loss: 0.5726 - val_accuracy: 0.5734 - val_loss: 1.3442\n",
      "Epoch 32/50\n",
      "\u001b[1m449/449\u001b[0m \u001b[32m━━━━━━━━━━━━━━━━━━━━\u001b[0m\u001b[37m\u001b[0m \u001b[1m103s\u001b[0m 186ms/step - accuracy: 0.8004 - loss: 0.5473 - val_accuracy: 0.6003 - val_loss: 1.2211\n",
      "Epoch 33/50\n",
      "\u001b[1m449/449\u001b[0m \u001b[32m━━━━━━━━━━━━━━━━━━━━\u001b[0m\u001b[37m\u001b[0m \u001b[1m140s\u001b[0m 182ms/step - accuracy: 0.8026 - loss: 0.5399 - val_accuracy: 0.5766 - val_loss: 1.2861\n",
      "Epoch 34/50\n",
      "\u001b[1m449/449\u001b[0m \u001b[32m━━━━━━━━━━━━━━━━━━━━\u001b[0m\u001b[37m\u001b[0m \u001b[1m81s\u001b[0m 181ms/step - accuracy: 0.8018 - loss: 0.5421 - val_accuracy: 0.6112 - val_loss: 1.2642\n",
      "Epoch 35/50\n",
      "\u001b[1m449/449\u001b[0m \u001b[32m━━━━━━━━━━━━━━━━━━━━\u001b[0m\u001b[37m\u001b[0m \u001b[1m81s\u001b[0m 181ms/step - accuracy: 0.8060 - loss: 0.5251 - val_accuracy: 0.6031 - val_loss: 1.2568\n",
      "Epoch 36/50\n",
      "\u001b[1m449/449\u001b[0m \u001b[32m━━━━━━━━━━━━━━━━━━━━\u001b[0m\u001b[37m\u001b[0m \u001b[1m82s\u001b[0m 181ms/step - accuracy: 0.8033 - loss: 0.5318 - val_accuracy: 0.6145 - val_loss: 1.2450\n",
      "Epoch 37/50\n",
      "\u001b[1m449/449\u001b[0m \u001b[32m━━━━━━━━━━━━━━━━━━━━\u001b[0m\u001b[37m\u001b[0m \u001b[1m82s\u001b[0m 181ms/step - accuracy: 0.8146 - loss: 0.5050 - val_accuracy: 0.6156 - val_loss: 1.2268\n",
      "Epoch 38/50\n",
      "\u001b[1m449/449\u001b[0m \u001b[32m━━━━━━━━━━━━━━━━━━━━\u001b[0m\u001b[37m\u001b[0m \u001b[1m81s\u001b[0m 181ms/step - accuracy: 0.8123 - loss: 0.5129 - val_accuracy: 0.6024 - val_loss: 1.2984\n",
      "Epoch 39/50\n",
      "\u001b[1m449/449\u001b[0m \u001b[32m━━━━━━━━━━━━━━━━━━━━\u001b[0m\u001b[37m\u001b[0m \u001b[1m82s\u001b[0m 181ms/step - accuracy: 0.8187 - loss: 0.4935 - val_accuracy: 0.6160 - val_loss: 1.2641\n",
      "Epoch 40/50\n",
      "\u001b[1m449/449\u001b[0m \u001b[32m━━━━━━━━━━━━━━━━━━━━\u001b[0m\u001b[37m\u001b[0m \u001b[1m82s\u001b[0m 182ms/step - accuracy: 0.8186 - loss: 0.5003 - val_accuracy: 0.6035 - val_loss: 1.2665\n",
      "Epoch 41/50\n",
      "\u001b[1m449/449\u001b[0m \u001b[32m━━━━━━━━━━━━━━━━━━━━\u001b[0m\u001b[37m\u001b[0m \u001b[1m82s\u001b[0m 181ms/step - accuracy: 0.8198 - loss: 0.4874 - val_accuracy: 0.6209 - val_loss: 1.2484\n",
      "Epoch 42/50\n",
      "\u001b[1m449/449\u001b[0m \u001b[32m━━━━━━━━━━━━━━━━━━━━\u001b[0m\u001b[37m\u001b[0m \u001b[1m82s\u001b[0m 180ms/step - accuracy: 0.8286 - loss: 0.4704 - val_accuracy: 0.6243 - val_loss: 1.3114\n",
      "Epoch 43/50\n",
      "\u001b[1m449/449\u001b[0m \u001b[32m━━━━━━━━━━━━━━━━━━━━\u001b[0m\u001b[37m\u001b[0m \u001b[1m83s\u001b[0m 181ms/step - accuracy: 0.8283 - loss: 0.4745 - val_accuracy: 0.6155 - val_loss: 1.2794\n",
      "Epoch 44/50\n",
      "\u001b[1m449/449\u001b[0m \u001b[32m━━━━━━━━━━━━━━━━━━━━\u001b[0m\u001b[37m\u001b[0m \u001b[1m75s\u001b[0m 166ms/step - accuracy: 0.8325 - loss: 0.4618 - val_accuracy: 0.6042 - val_loss: 1.2702\n",
      "Epoch 45/50\n",
      "\u001b[1m449/449\u001b[0m \u001b[32m━━━━━━━━━━━━━━━━━━━━\u001b[0m\u001b[37m\u001b[0m \u001b[1m57s\u001b[0m 127ms/step - accuracy: 0.8319 - loss: 0.4528 - val_accuracy: 0.6091 - val_loss: 1.3369\n",
      "Epoch 46/50\n",
      "\u001b[1m449/449\u001b[0m \u001b[32m━━━━━━━━━━━━━━━━━━━━\u001b[0m\u001b[37m\u001b[0m \u001b[1m56s\u001b[0m 126ms/step - accuracy: 0.8346 - loss: 0.4554 - val_accuracy: 0.6076 - val_loss: 1.3466\n",
      "Epoch 47/50\n",
      "\u001b[1m449/449\u001b[0m \u001b[32m━━━━━━━━━━━━━━━━━━━━\u001b[0m\u001b[37m\u001b[0m \u001b[1m56s\u001b[0m 125ms/step - accuracy: 0.8379 - loss: 0.4497 - val_accuracy: 0.5857 - val_loss: 1.3538\n",
      "Epoch 48/50\n",
      "\u001b[1m449/449\u001b[0m \u001b[32m━━━━━━━━━━━━━━━━━━━━\u001b[0m\u001b[37m\u001b[0m \u001b[1m56s\u001b[0m 126ms/step - accuracy: 0.8344 - loss: 0.4511 - val_accuracy: 0.5984 - val_loss: 1.3697\n",
      "Epoch 49/50\n",
      "\u001b[1m449/449\u001b[0m \u001b[32m━━━━━━━━━━━━━━━━━━━━\u001b[0m\u001b[37m\u001b[0m \u001b[1m57s\u001b[0m 126ms/step - accuracy: 0.8428 - loss: 0.4279 - val_accuracy: 0.6149 - val_loss: 1.3177\n",
      "Epoch 50/50\n",
      "\u001b[1m449/449\u001b[0m \u001b[32m━━━━━━━━━━━━━━━━━━━━\u001b[0m\u001b[37m\u001b[0m \u001b[1m57s\u001b[0m 126ms/step - accuracy: 0.8469 - loss: 0.4167 - val_accuracy: 0.6116 - val_loss: 1.3164\n"
     ]
    }
   ],
   "source": [
    "history = model.fit(x_train,y_train, epochs=50, batch_size=64, validation_data=(x_test,y_test))"
   ]
  },
  {
   "cell_type": "code",
   "execution_count": 20,
   "id": "9d0dd8fc-e31e-49cb-bbd8-eca0ea7a56fa",
   "metadata": {},
   "outputs": [],
   "source": [
    "# Evaluate the model performance\n",
    "train_accuracy = model.history.history['accuracy']\n",
    "test_accuracy = model.history.history['val_accuracy']"
   ]
  },
  {
   "cell_type": "markdown",
   "id": "e5b75f09-ff21-4d2f-a79b-a0a3d06dddf7",
   "metadata": {},
   "source": [
    "# Inference"
   ]
  },
  {
   "cell_type": "code",
   "execution_count": 26,
   "id": "89b548e2-980f-4cd4-a2d3-3463493ecc74",
   "metadata": {},
   "outputs": [],
   "source": [
    "from PIL import Image"
   ]
  },
  {
   "cell_type": "code",
   "execution_count": 41,
   "id": "9166b420-7ebf-4834-b947-6bedd3dd375a",
   "metadata": {},
   "outputs": [],
   "source": [
    "def predict_emotion(image):\n",
    "    image = preprocess_image(image)\n",
    "    image = np.expand_dims(image, axis=0) # Add batch dimension\n",
    "    prediction = model.predict(image)\n",
    "    emotion = np.argmax(prediction)\n",
    "    return emotion"
   ]
  },
  {
   "cell_type": "code",
   "execution_count": 48,
   "id": "0c200cc5-ac66-4742-aa05-f2eb65896daf",
   "metadata": {},
   "outputs": [
    {
     "name": "stdout",
     "output_type": "stream",
     "text": [
      "\u001b[1m1/1\u001b[0m \u001b[32m━━━━━━━━━━━━━━━━━━━━\u001b[0m\u001b[37m\u001b[0m \u001b[1m0s\u001b[0m 30ms/step\n",
      "Predicted emotion: 2\n"
     ]
    }
   ],
   "source": [
    "# Example usage \n",
    "new_image = \"C:\\\\Users\\\\ishit\\\\OneDrive\\\\Attachments\\\\pandas\\\\WhatsApp Image .jpg\"\n",
    "emotion = predict_emotion(new_image)\n",
    "print(f'Predicted emotion: {emotion}')"
   ]
  },
  {
   "cell_type": "code",
   "execution_count": 47,
   "id": "04c62790-451f-4f0e-9bee-f614d8a9fa9e",
   "metadata": {},
   "outputs": [
    {
     "name": "stdout",
     "output_type": "stream",
     "text": [
      "\u001b[1m1/1\u001b[0m \u001b[32m━━━━━━━━━━━━━━━━━━━━\u001b[0m\u001b[37m\u001b[0m \u001b[1m0s\u001b[0m 18ms/step\n",
      "Predicted emotion: 5\n"
     ]
    }
   ],
   "source": [
    "new_image = \"C:\\\\Users\\\\ishit\\\\OneDrive\\\\Attachments\\\\pandas\\\\pexels-justin.jpg\"\n",
    "emotion = predict_emotion(new_image)\n",
    "print(f'Predicted emotion: {emotion}')"
   ]
  },
  {
   "cell_type": "code",
   "execution_count": null,
   "id": "56285e6e-215e-48a9-9826-f16ef64f9c3a",
   "metadata": {},
   "outputs": [],
   "source": [
    "# (0=Angry, 1=Disgust, 2=Fear, 3=Happy, 4=Sad, 5=Surprise, 6=Neutral)."
   ]
  }
 ],
 "metadata": {
  "kernelspec": {
   "display_name": "Python 3 (ipykernel)",
   "language": "python",
   "name": "python3"
  },
  "language_info": {
   "codemirror_mode": {
    "name": "ipython",
    "version": 3
   },
   "file_extension": ".py",
   "mimetype": "text/x-python",
   "name": "python",
   "nbconvert_exporter": "python",
   "pygments_lexer": "ipython3",
   "version": "3.12.2"
  }
 },
 "nbformat": 4,
 "nbformat_minor": 5
}
